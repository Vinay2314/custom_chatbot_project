{
 "cells": [
  {
   "cell_type": "markdown",
   "metadata": {},
   "source": [
    "## Dataset Selection\n",
    "I chose the Character Descriptions dataset because it contains fictional profiles. It is ideal for demonstrating how a custom chatbot can answer questions specifically about fictional characters, ensuring more accurate, dataset-specific responses compared to a general model."
   ]
  },
  {
   "cell_type": "code",
   "execution_count": 1,
   "metadata": {},
   "outputs": [],
   "source": [
    "# Import all required libraries\n",
    "import openai\n",
    "import numpy as np\n",
    "from sklearn.metrics.pairwise import cosine_similarity\n"
   ]
  },
  {
   "cell_type": "code",
   "execution_count": 2,
   "metadata": {},
   "outputs": [],
   "source": [
    "# API Key Setup\n",
    "openai.api_base = \"https://openai.vocareum.com/v1\"\n",
    "openai.api_key = \"YOUR_API_KEY\""
   ]
  },
  {
   "cell_type": "code",
   "execution_count": 3,
   "id": "7f8e3b8d",
   "metadata": {},
   "outputs": [],
   "source": [
    "# Function to create embeddings using OpenAI API\n",
    "def create_embedding(text):\n",
    "    response = openai.Embedding.create(\n",
    "        input=[text],\n",
    "        model=\"text-embedding-ada-002\"  # You can replace with any other model if needed\n",
    "    )\n",
    "    return response['data'][0]['embedding']\n"
   ]
  },
  {
   "cell_type": "code",
   "execution_count": 4,
   "metadata": {},
   "outputs": [],
   "source": [
    "# Function to embed all context documents\n",
    "def embed_context(texts):\n",
    "    embeddings = []\n",
    "    for text in texts:\n",
    "        emb = create_embedding(text)\n",
    "        embeddings.append(emb)\n",
    "    return embeddings\n"
   ]
  },
  {
   "cell_type": "code",
   "execution_count": 5,
   "metadata": {},
   "outputs": [],
   "source": [
    "# Function to create embedding for the question\n",
    "def create_question_embedding(question):\n",
    "    return create_embedding(question)\n"
   ]
  },
  {
   "cell_type": "code",
   "execution_count": 6,
   "metadata": {},
   "outputs": [],
   "source": [
    "# Function to find most similar contexts to the question\n",
    "def find_most_similar_context(question_embedding, context_embeddings, texts, top_k=3):\n",
    "    similarities = cosine_similarity(\n",
    "        [question_embedding], context_embeddings\n",
    "    )[0]\n",
    "    top_indices = similarities.argsort()[-top_k:][::-1]  # Sort and get top_k\n",
    "    selected_texts = [texts[i] for i in top_indices]\n",
    "    return selected_texts\n"
   ]
  },
  {
   "cell_type": "code",
   "execution_count": 7,
   "id": "c2634fe1",
   "metadata": {},
   "outputs": [],
   "source": [
    "# Function to create final prompt for LLM\n",
    "def create_prompt(question, selected_contexts):\n",
    "    context_text = \"\\n\\n\".join(selected_contexts)\n",
    "    instruction = f\"\"\"You are a helpful assistant.\n",
    "Given the following context:\n",
    "{context_text}\n",
    "\n",
    "Answer the following question:\n",
    "{question}\n",
    "\"\"\"\n",
    "    return instruction\n"
   ]
  },
  {
   "cell_type": "code",
   "execution_count": 8,
   "id": "fd34279b",
   "metadata": {},
   "outputs": [
    {
     "name": "stdout",
     "output_type": "stream",
     "text": [
      "Document 2 discusses machine learning models.\n"
     ]
    }
   ],
   "source": [
    "# Example documents\n",
    "texts = [\n",
    "    \"This is document 1 about artificial intelligence.\",\n",
    "    \"This is document 2 discussing machine learning models.\",\n",
    "    \"This is document 3 which explains neural networks.\"\n",
    "]\n",
    "\n",
    "# Step 1: Embed context documents\n",
    "context_embeddings = embed_context(texts)\n",
    "\n",
    "# Step 2: Take a question\n",
    "question = \"What is discussed in document 2?\"\n",
    "\n",
    "# Step 3: Embed the question\n",
    "question_embedding = create_question_embedding(question)\n",
    "\n",
    "# Step 4: Find most similar context(s)\n",
    "selected_contexts = find_most_similar_context(\n",
    "    question_embedding, context_embeddings, texts, top_k=3\n",
    ")\n",
    "\n",
    "# Step 5: Create prompt to send to LLM\n",
    "final_prompt = create_prompt(question, selected_contexts)\n",
    "\n",
    "# Step 6: Send to OpenAI model (optional if you want to test)\n",
    "response = openai.ChatCompletion.create(\n",
    "    model=\"gpt-3.5-turbo\",\n",
    "    messages=[{\"role\": \"user\", \"content\": final_prompt}]\n",
    ")\n",
    "\n",
    "# Step 7: Print final output\n",
    "print(response['choices'][0]['message']['content'])\n"
   ]
  }
 ],
 "metadata": {
  "kernelspec": {
   "display_name": "Python 3",
   "language": "python",
   "name": "python3"
  },
  "language_info": {
   "codemirror_mode": {
    "name": "ipython",
    "version": 3
   },
   "file_extension": ".py",
   "mimetype": "text/x-python",
   "name": "python",
   "nbconvert_exporter": "python",
   "pygments_lexer": "ipython3",
   "version": "3.10.0"
  }
 },
 "nbformat": 4,
 "nbformat_minor": 5
}
