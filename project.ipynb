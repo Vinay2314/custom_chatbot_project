{
 "cells": [
  {
   "cell_type": "markdown",
   "metadata": {},
   "source": [
    "## Dataset Selection\n",
    "I chose the Character Descriptions dataset because it contains fictional profiles. It is ideal for demonstrating how a custom chatbot can answer questions specifically about fictional characters, ensuring more accurate, dataset-specific responses compared to a general model."
   ]
  },
  {
   "cell_type": "code",
   "execution_count": 1,
   "metadata": {},
   "outputs": [],
   "source": [
    "# Install needed packages if not already installed\n",
    "# pip install pandas openai numpy scikit-learn\n",
    "import pandas as pd\n",
    "import numpy as np\n",
    "import openai\n",
    "from sklearn.metrics.pairwise import cosine_similarity\n",
    "from sklearn.feature_extraction.text import TfidfVectorizer"
   ]
  },
  {
   "cell_type": "code",
   "execution_count": null,
   "metadata": {},
   "outputs": [],
   "source": [
    "# API Key Setup\n",
    "openai.api_base = \"https://openai.vocareum.com/v1\"\n",
    "openai.api_key = \"\""
   ]
  },
  {
   "cell_type": "code",
   "execution_count": 3,
   "id": "7f8e3b8d",
   "metadata": {},
   "outputs": [
    {
     "data": {
      "text/plain": [
       "'\\nI chose the \"Character Descriptions\" dataset, which contains character profiles from TV shows, films, and theater productions. This dataset is ideal for building a chatbot that can answer questions about different fictional characters because it contains rich, varied descriptions that can be used to ground responses.\\n'"
      ]
     },
     "execution_count": 3,
     "metadata": {},
     "output_type": "execute_result"
    }
   ],
   "source": [
    "# TODO 1: Choose a Dataset and Explain the Scenario\n",
    "\n",
    "\"\"\"\n",
    "I chose the \"Character Descriptions\" dataset, which contains character profiles from TV shows, films, and theater productions. This dataset is ideal for building a chatbot that can answer questions about different fictional characters because it contains rich, varied descriptions that can be used to ground responses.\n",
    "\"\"\""
   ]
  },
  {
   "cell_type": "code",
   "execution_count": 4,
   "metadata": {},
   "outputs": [
    {
     "name": "stdout",
     "output_type": "stream",
     "text": [
      "Total number of rows: 55\n"
     ]
    },
    {
     "data": {
      "text/html": [
       "<div>\n",
       "<style scoped>\n",
       "    .dataframe tbody tr th:only-of-type {\n",
       "        vertical-align: middle;\n",
       "    }\n",
       "\n",
       "    .dataframe tbody tr th {\n",
       "        vertical-align: top;\n",
       "    }\n",
       "\n",
       "    .dataframe thead th {\n",
       "        text-align: right;\n",
       "    }\n",
       "</style>\n",
       "<table border=\"1\" class=\"dataframe\">\n",
       "  <thead>\n",
       "    <tr style=\"text-align: right;\">\n",
       "      <th></th>\n",
       "      <th>text</th>\n",
       "      <th>Description</th>\n",
       "      <th>Medium</th>\n",
       "      <th>Setting</th>\n",
       "    </tr>\n",
       "  </thead>\n",
       "  <tbody>\n",
       "    <tr>\n",
       "      <th>0</th>\n",
       "      <td>Emily</td>\n",
       "      <td>A young woman in her early 20s, Emily is an as...</td>\n",
       "      <td>Play</td>\n",
       "      <td>England</td>\n",
       "    </tr>\n",
       "    <tr>\n",
       "      <th>1</th>\n",
       "      <td>Jack</td>\n",
       "      <td>A middle-aged man in his 40s, Jack is a succes...</td>\n",
       "      <td>Play</td>\n",
       "      <td>England</td>\n",
       "    </tr>\n",
       "    <tr>\n",
       "      <th>2</th>\n",
       "      <td>Alice</td>\n",
       "      <td>A woman in her late 30s, Alice is a warm and n...</td>\n",
       "      <td>Play</td>\n",
       "      <td>England</td>\n",
       "    </tr>\n",
       "    <tr>\n",
       "      <th>3</th>\n",
       "      <td>Tom</td>\n",
       "      <td>A man in his 50s, Tom is a retired soldier and...</td>\n",
       "      <td>Play</td>\n",
       "      <td>England</td>\n",
       "    </tr>\n",
       "    <tr>\n",
       "      <th>4</th>\n",
       "      <td>Sarah</td>\n",
       "      <td>A woman in her mid-20s, Sarah is a free-spirit...</td>\n",
       "      <td>Play</td>\n",
       "      <td>England</td>\n",
       "    </tr>\n",
       "  </tbody>\n",
       "</table>\n",
       "</div>"
      ],
      "text/plain": [
       "    text                                        Description Medium  Setting\n",
       "0  Emily  A young woman in her early 20s, Emily is an as...   Play  England\n",
       "1   Jack  A middle-aged man in his 40s, Jack is a succes...   Play  England\n",
       "2  Alice  A woman in her late 30s, Alice is a warm and n...   Play  England\n",
       "3    Tom  A man in his 50s, Tom is a retired soldier and...   Play  England\n",
       "4  Sarah  A woman in her mid-20s, Sarah is a free-spirit...   Play  England"
      ]
     },
     "execution_count": 4,
     "metadata": {},
     "output_type": "execute_result"
    }
   ],
   "source": [
    "# TODO 2: Prepare the Dataset for the Custom Query Process\n",
    "\n",
    "# Load the dataset\n",
    "df = pd.read_csv(\"./data/character_descriptions.csv\")\n",
    "\n",
    "# Display the first few rows to verify\n",
    "df.head()\n",
    "\n",
    "# Check the number of rows\n",
    "print(f\"Total number of rows: {len(df)}\")\n",
    "\n",
    "# Ensure the dataframe has a 'text' column\n",
    "if 'text' not in df.columns:\n",
    "    # Assuming the descriptions are in a column called 'description'\n",
    "    df = df.rename(columns={df.columns[0]: 'text'})\n",
    "\n",
    "# Final check\n",
    "df.head()"
   ]
  },
  {
   "cell_type": "code",
   "execution_count": 5,
   "metadata": {},
   "outputs": [],
   "source": [
    "# TODO 3: Perform the Custom Query Process\n",
    "\n",
    "# Step 1: Create the TF-IDF Matrix\n",
    "vectorizer = TfidfVectorizer(stop_words=\"english\")\n",
    "tfidf_matrix = vectorizer.fit_transform(df[\"text\"])\n",
    "\n",
    "# Step 2: Define a function for custom querying\n",
    "def get_custom_response(user_question):\n",
    "    # Add user question to the corpus\n",
    "    temp_corpus = df[\"text\"].tolist() + [user_question]\n",
    "\n",
    "    # Recreate the TF-IDF Matrix\n",
    "    temp_vectorizer = TfidfVectorizer(stop_words=\"english\")\n",
    "    temp_tfidf_matrix = temp_vectorizer.fit_transform(temp_corpus)\n",
    "\n",
    "    # Calculate Similarity Scores\n",
    "    temp_cosine_similarities = cosine_similarity(temp_tfidf_matrix[-1], temp_tfidf_matrix[:-1])\n",
    "\n",
    "    # Find the most relevant text\n",
    "    most_similar_idx = temp_cosine_similarities.argsort()[0][-1]\n",
    "    relevant_text = df.iloc[most_similar_idx][\"text\"]\n",
    "\n",
    "    # Create a custom prompt\n",
    "    custom_prompt = f\"Use the following character description to answer the user's question:\\n\\n{relevant_text}\\n\\nUser question: {user_question}\\n\\nAnswer:\"\n",
    "\n",
    "    # Generate a response\n",
    "    response = openai.Completion.create(\n",
    "        engine=\"text-davinci-003\",\n",
    "        prompt=custom_prompt,\n",
    "        max_tokens=200,\n",
    "        temperature=0.5\n",
    "    )\n",
    "\n",
    "    return response.choices[0].text.strip()\n"
   ]
  },
  {
   "cell_type": "code",
   "execution_count": null,
   "metadata": {},
   "outputs": [
    {
     "name": "stdout",
     "output_type": "stream",
     "text": [
      "Raw API response: {\n",
      "  \"error\": {\n",
      "    \"message\": \"This is a chat model and not supported in the v1/completions endpoint. Did you mean to use v1/chat/completions?\",\n",
      "    \"type\": \"invalid_request_error\",\n",
      "    \"param\": \"model\",\n",
      "    \"code\": null\n",
      "  }\n",
      "}\n",
      "Raw API response: {\n",
      "  \"error\": {\n",
      "    \"message\": \"This is a chat model and not supported in the v1/completions endpoint. Did you mean to use v1/chat/completions?\",\n",
      "    \"type\": \"invalid_request_error\",\n",
      "    \"param\": \"model\",\n",
      "    \"code\": null\n",
      "  }\n",
      "}\n",
      "Basic Prompt Answer 1:\n",
      "----------------------\n",
      "Tell me about a character who is a wizard.\n",
      "\n",
      "Custom Prompt Answer 1:\n",
      "No response received from OpenAI.\n",
      "\n",
      "============================\n",
      "\n",
      "Basic Prompt Answer 2:\n",
      "----------------------\n",
      "Who is a famous detective in literature?\n",
      "\n",
      "Custom Prompt Answer 2:\n",
      "No response received from OpenAI.\n"
     ]
    }
   ],
   "source": [
    "def get_custom_response(question):\n",
    "    custom_prompt = f\"Answer the following question about fictional characters: {question}\"\n",
    "    \n",
    "    try:\n",
    "        response = openai.ChatCompletion.create(  # Use v1/chat/completions endpoint\n",
    "            model=\"gpt-3.5-turbo\",  # Or any available chat model\n",
    "            messages=[\n",
    "                {\"role\": \"system\", \"content\": \"You are a helpful assistant that answers questions about fictional characters.\"},\n",
    "                {\"role\": \"user\", \"content\": custom_prompt}\n",
    "            ],\n",
    "            max_tokens=200,\n",
    "            temperature=0.7\n",
    "        )\n",
    "        # Debug output in case of structure issues\n",
    "        print(\"Raw API response:\", response)\n",
    "\n",
    "        # Safely extract the answer\n",
    "        if 'choices' in response and len(response['choices']) > 0:\n",
    "            return response['choices'][0]['message']['content'].strip()\n",
    "        else:\n",
    "            return \"No response received from OpenAI.\"\n",
    "\n",
    "    except Exception as e:\n",
    "        print(\"OpenAI API Error:\", e)\n",
    "        return \"Error: Unable to fetch a response.\"\n",
    "\n",
    "\n",
    "# Basic (no context) prompt\n",
    "basic_question_1 = \"Tell me about a character who is a wizard.\"\n",
    "basic_question_2 = \"Who is a famous detective in literature?\"\n",
    "\n",
    "# Custom prompt using function\n",
    "custom_answer_1 = get_custom_response(basic_question_1)\n",
    "custom_answer_2 = get_custom_response(basic_question_2)\n",
    "\n",
    "# Display results\n",
    "print(\"Basic Prompt Answer 1:\")\n",
    "print(\"----------------------\")\n",
    "print(basic_question_1)\n",
    "print(\"\\nCustom Prompt Answer 1:\")\n",
    "print(custom_answer_1)\n",
    "print(\"\\n============================\\n\")\n",
    "\n",
    "print(\"Basic Prompt Answer 2:\")\n",
    "print(\"----------------------\")\n",
    "print(basic_question_2)\n",
    "print(\"\\nCustom Prompt Answer 2:\")\n",
    "print(custom_answer_2)\n"
   ]
  }
 ],
 "metadata": {
  "kernelspec": {
   "display_name": "Python 3",
   "language": "python",
   "name": "python3"
  },
  "language_info": {
   "codemirror_mode": {
    "name": "ipython",
    "version": 3
   },
   "file_extension": ".py",
   "mimetype": "text/x-python",
   "name": "python",
   "nbconvert_exporter": "python",
   "pygments_lexer": "ipython3",
   "version": "3.10.0"
  }
 },
 "nbformat": 4,
 "nbformat_minor": 5
}
